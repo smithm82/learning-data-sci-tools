{
 "cells": [
  {
   "cell_type": "markdown",
   "id": "7823bff7",
   "metadata": {},
   "source": [
    "# Data Science Tools and Ecosystem"
   ]
  },
  {
   "cell_type": "markdown",
   "id": "4ecb161e",
   "metadata": {},
   "source": [
    "In this notebook, data science tools and ecosystem are summarized"
   ]
  },
  {
   "cell_type": "markdown",
   "id": "6119d6b0",
   "metadata": {},
   "source": [
    "Some of the popular languages used in data science are: \n",
    "1. R\n",
    "2. Python\n",
    "3. SQL\n",
    "4. Java"
   ]
  },
  {
   "cell_type": "markdown",
   "id": "3346bf90",
   "metadata": {},
   "source": [
    "Some of the commonly used libraries in data science include:\n",
    "1. TesnorFlow\n",
    "2. NumPy\n",
    "3. SciPy\n",
    "4. Pandas"
   ]
  },
  {
   "cell_type": "markdown",
   "id": "ffbcc8cd",
   "metadata": {},
   "source": [
    "### Data Science tools\n",
    "\n",
    "|Tools|\n",
    "|---|\n",
    "|Rstudio| \n",
    "|Apache Spark| \n",
    "|Tesnor Flow| "
   ]
  },
  {
   "cell_type": "markdown",
   "id": "bbc6bfbf",
   "metadata": {},
   "source": [
    "### Below are a few examples of evaluating arithmetic expressions in python"
   ]
  },
  {
   "cell_type": "code",
   "execution_count": 16,
   "id": "94a60552",
   "metadata": {
    "scrolled": true
   },
   "outputs": [
    {
     "data": {
      "text/plain": [
       "7"
      ]
     },
     "execution_count": 16,
     "metadata": {},
     "output_type": "execute_result"
    }
   ],
   "source": [
    "5+2"
   ]
  },
  {
   "cell_type": "code",
   "execution_count": 18,
   "id": "dddd98d2",
   "metadata": {},
   "outputs": [],
   "source": [
    "x = 5"
   ]
  },
  {
   "cell_type": "code",
   "execution_count": 19,
   "id": "794bcfff",
   "metadata": {},
   "outputs": [],
   "source": [
    "y = 5*x+7"
   ]
  },
  {
   "cell_type": "code",
   "execution_count": 20,
   "id": "c831bbcd",
   "metadata": {},
   "outputs": [
    {
     "data": {
      "text/plain": [
       "37"
      ]
     },
     "execution_count": 20,
     "metadata": {},
     "output_type": "execute_result"
    }
   ],
   "source": [
    "x+y"
   ]
  },
  {
   "cell_type": "markdown",
   "id": "5f3590b1",
   "metadata": {},
   "source": [
    "#### This is a simple arithmetic expression to multiply then add integers"
   ]
  },
  {
   "cell_type": "code",
   "execution_count": 21,
   "id": "3d23e2ad",
   "metadata": {},
   "outputs": [
    {
     "data": {
      "text/plain": [
       "17"
      ]
     },
     "execution_count": 21,
     "metadata": {},
     "output_type": "execute_result"
    }
   ],
   "source": [
    "(3*4)+5"
   ]
  },
  {
   "cell_type": "markdown",
   "id": "3c60194c",
   "metadata": {},
   "source": [
    "###### This will convert hours to minutes by dividing by 60"
   ]
  },
  {
   "cell_type": "code",
   "execution_count": 30,
   "id": "4793ea41",
   "metadata": {},
   "outputs": [],
   "source": [
    "total_minutes = 200\n",
    "hours = total_minutes/60"
   ]
  },
  {
   "cell_type": "code",
   "execution_count": 31,
   "id": "efd8f23c",
   "metadata": {},
   "outputs": [
    {
     "data": {
      "text/plain": [
       "3.3333333333333335"
      ]
     },
     "execution_count": 31,
     "metadata": {},
     "output_type": "execute_result"
    }
   ],
   "source": [
    "hours"
   ]
  },
  {
   "cell_type": "markdown",
   "id": "b5a83691",
   "metadata": {},
   "source": [
    "### List of Popular Languages in Data Science\n",
    "\n",
    "Languages\n",
    "- Python\n",
    "- SQL\n",
    "- R\n",
    "- Stata"
   ]
  },
  {
   "cell_type": "markdown",
   "id": "1b392a5f",
   "metadata": {},
   "source": [
    "## Author \n",
    "\n",
    "Mike Smith"
   ]
  },
  {
   "cell_type": "code",
   "execution_count": null,
   "id": "64ce212a",
   "metadata": {},
   "outputs": [],
   "source": []
  }
 ],
 "metadata": {
  "kernelspec": {
   "display_name": "Python 3 (ipykernel)",
   "language": "python",
   "name": "python3"
  },
  "language_info": {
   "codemirror_mode": {
    "name": "ipython",
    "version": 3
   },
   "file_extension": ".py",
   "mimetype": "text/x-python",
   "name": "python",
   "nbconvert_exporter": "python",
   "pygments_lexer": "ipython3",
   "version": "3.10.9"
  }
 },
 "nbformat": 4,
 "nbformat_minor": 5
}
